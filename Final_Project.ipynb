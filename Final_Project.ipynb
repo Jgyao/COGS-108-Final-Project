{
 "cells": [
  {
   "cell_type": "markdown",
   "metadata": {},
   "source": [
    "# Data Cleaning"
   ]
  },
  {
   "cell_type": "code",
   "execution_count": 2,
   "metadata": {},
   "outputs": [],
   "source": [
    "import numpy as np\n",
    "import pandas as pd\n",
    "import matplotlib.pyplot as plt\n",
    "import seaborn as sns"
   ]
  },
  {
   "cell_type": "code",
   "execution_count": 3,
   "metadata": {},
   "outputs": [],
   "source": [
    "pd.options.display.max_rows = 7\n",
    "pd.options.display.max_columns = 8"
   ]
  },
  {
   "cell_type": "code",
   "execution_count": 8,
   "metadata": {},
   "outputs": [],
   "source": [
    "#parse data\n",
    "df_index = pd.read_csv(\"oci_2015_datasd.csv\")\n",
    "df_collisions = pd.read_csv(\"pd_collisions_datasd.csv\")\n",
    "df_traffic = pd.read_csv(\"traffic_counts_datasd.csv\")\n",
    "df_meters = pd.read_csv(\"treas_parking_meters_loc_datasd.csv\")\n",
    "\n",
    "#drop OCI columns\n",
    "df_index.drop( columns = \"seg_id\", inplace = True )\n",
    "df_index.drop( columns = \"oci_wt\", inplace = True )\n",
    "df_index.drop( columns = \"pvm_class\", inplace = True )\n",
    "df_index.drop( columns = \"func_class\", inplace = True )\n",
    "df_index.drop( columns = \"oci_desc\", inplace = True )\n",
    "\n",
    "#drop collision columns\n",
    "df_collisions.drop( columns = \"report_id\", inplace = True )\n",
    "df_collisions.drop( columns = \"date_time\", inplace = True )\n",
    "df_collisions.drop( columns = \"street_no\", inplace = True )\n",
    "df_collisions.drop( columns = \"street_dir\", inplace = True )\n",
    "df_collisions.drop( columns = \"cross_st_dir\", inplace = True )\n",
    "df_collisions.drop( columns = \"violation_section\", inplace = True )\n",
    "df_collisions.drop( columns = \"violation_type\", inplace = True )\n",
    "df_collisions.drop( columns = \"charge_desc\", inplace = True )\n",
    "df_collisions.drop( columns = \"injured\", inplace = True )\n",
    "df_collisions.drop( columns = \"killed\", inplace = True )\n",
    "df_collisions.drop( columns = \"hit_run_lvl\", inplace = True )\n",
    "df_collisions.drop( columns = \"police_beat\", inplace = True )\n",
    "\n",
    "#drop traffic columns\n",
    "df_traffic.drop( columns = \"id\", inplace = True )\n",
    "df_traffic.drop( columns = \"all_count\", inplace = True )\n",
    "df_traffic.drop( columns = \"northbound_count\", inplace = True )\n",
    "df_traffic.drop( columns = \"southbound_count\", inplace = True )\n",
    "df_traffic.drop( columns = \"eastbound_count\", inplace = True )\n",
    "df_traffic.drop( columns = \"westbound_count\", inplace = True )\n",
    "df_traffic.drop( columns = \"file_no\", inplace = True )\n",
    "df_traffic.drop( columns = \"count_date\", inplace = True )"
   ]
  },
  {
   "cell_type": "code",
   "execution_count": null,
   "metadata": {},
   "outputs": [],
   "source": []
  }
 ],
 "metadata": {
  "kernelspec": {
   "display_name": "Python 3",
   "language": "python",
   "name": "python3"
  },
  "language_info": {
   "codemirror_mode": {
    "name": "ipython",
    "version": 3
   },
   "file_extension": ".py",
   "mimetype": "text/x-python",
   "name": "python",
   "nbconvert_exporter": "python",
   "pygments_lexer": "ipython3",
   "version": "3.7.3"
  }
 },
 "nbformat": 4,
 "nbformat_minor": 2
}
